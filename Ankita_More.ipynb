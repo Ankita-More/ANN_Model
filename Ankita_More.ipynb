{
  "nbformat": 4,
  "nbformat_minor": 0,
  "metadata": {
    "colab": {
      "provenance": [],
      "collapsed_sections": []
    },
    "kernelspec": {
      "name": "python3",
      "display_name": "Python 3"
    },
    "language_info": {
      "name": "python"
    }
  },
  "cells": [
    {
      "cell_type": "code",
      "execution_count": null,
      "metadata": {
        "id": "jjiENjAr2-ok"
      },
      "outputs": [],
      "source": [
        "import numpy as np\n",
        "import pandas as pd\n",
        "import matplotlib.pyplot as plt\n",
        "import seaborn as sns\n",
        "import warnings\n",
        "warnings.filterwarnings(\"ignore\")\n",
        "\n",
        "import tensorflow as tf\n",
        "from tensorflow.keras import Sequential\n",
        "from tensorflow.keras.layers import Dense"
      ]
    },
    {
      "cell_type": "code",
      "source": [
        "df = pd.read_csv(\"/content/household_power_consumption.csv\")"
      ],
      "metadata": {
        "id": "cQHXB4Hw3vQl"
      },
      "execution_count": 2,
      "outputs": []
    },
    {
      "cell_type": "code",
      "source": [
        "df.head()"
      ],
      "metadata": {
        "colab": {
          "base_uri": "https://localhost:8080/",
          "height": 444
        },
        "id": "afM_LkxL311N",
        "outputId": "106f2ee6-16dc-45b3-b7bb-ce552c14ce98"
      },
      "execution_count": 3,
      "outputs": [
        {
          "output_type": "execute_result",
          "data": {
            "text/plain": [
              "         Date      Time Global_active_power Global_reactive_power Voltage  \\\n",
              "0  16-12-2006  17:24:00               4.216                 0.418  234.84   \n",
              "1  16-12-2006  17:25:00                5.36                 0.436  233.63   \n",
              "2  16-12-2006  17:26:00               5.374                 0.498  233.29   \n",
              "3  16-12-2006  17:27:00               5.388                 0.502  233.74   \n",
              "4  16-12-2006  17:28:00               3.666                 0.528  235.68   \n",
              "\n",
              "  Global_intensity Sub_metering_1 Sub_metering_2  Sub_metering_3  \n",
              "0             18.4              0              1            17.0  \n",
              "1               23              0              1            16.0  \n",
              "2               23              0              2            17.0  \n",
              "3               23              0              1            17.0  \n",
              "4             15.8              0              1            17.0  "
            ],
            "text/html": [
              "\n",
              "  <div id=\"df-20836a19-2191-45f9-851d-950fd5cc217b\">\n",
              "    <div class=\"colab-df-container\">\n",
              "      <div>\n",
              "<style scoped>\n",
              "    .dataframe tbody tr th:only-of-type {\n",
              "        vertical-align: middle;\n",
              "    }\n",
              "\n",
              "    .dataframe tbody tr th {\n",
              "        vertical-align: top;\n",
              "    }\n",
              "\n",
              "    .dataframe thead th {\n",
              "        text-align: right;\n",
              "    }\n",
              "</style>\n",
              "<table border=\"1\" class=\"dataframe\">\n",
              "  <thead>\n",
              "    <tr style=\"text-align: right;\">\n",
              "      <th></th>\n",
              "      <th>Date</th>\n",
              "      <th>Time</th>\n",
              "      <th>Global_active_power</th>\n",
              "      <th>Global_reactive_power</th>\n",
              "      <th>Voltage</th>\n",
              "      <th>Global_intensity</th>\n",
              "      <th>Sub_metering_1</th>\n",
              "      <th>Sub_metering_2</th>\n",
              "      <th>Sub_metering_3</th>\n",
              "    </tr>\n",
              "  </thead>\n",
              "  <tbody>\n",
              "    <tr>\n",
              "      <th>0</th>\n",
              "      <td>16-12-2006</td>\n",
              "      <td>17:24:00</td>\n",
              "      <td>4.216</td>\n",
              "      <td>0.418</td>\n",
              "      <td>234.84</td>\n",
              "      <td>18.4</td>\n",
              "      <td>0</td>\n",
              "      <td>1</td>\n",
              "      <td>17.0</td>\n",
              "    </tr>\n",
              "    <tr>\n",
              "      <th>1</th>\n",
              "      <td>16-12-2006</td>\n",
              "      <td>17:25:00</td>\n",
              "      <td>5.36</td>\n",
              "      <td>0.436</td>\n",
              "      <td>233.63</td>\n",
              "      <td>23</td>\n",
              "      <td>0</td>\n",
              "      <td>1</td>\n",
              "      <td>16.0</td>\n",
              "    </tr>\n",
              "    <tr>\n",
              "      <th>2</th>\n",
              "      <td>16-12-2006</td>\n",
              "      <td>17:26:00</td>\n",
              "      <td>5.374</td>\n",
              "      <td>0.498</td>\n",
              "      <td>233.29</td>\n",
              "      <td>23</td>\n",
              "      <td>0</td>\n",
              "      <td>2</td>\n",
              "      <td>17.0</td>\n",
              "    </tr>\n",
              "    <tr>\n",
              "      <th>3</th>\n",
              "      <td>16-12-2006</td>\n",
              "      <td>17:27:00</td>\n",
              "      <td>5.388</td>\n",
              "      <td>0.502</td>\n",
              "      <td>233.74</td>\n",
              "      <td>23</td>\n",
              "      <td>0</td>\n",
              "      <td>1</td>\n",
              "      <td>17.0</td>\n",
              "    </tr>\n",
              "    <tr>\n",
              "      <th>4</th>\n",
              "      <td>16-12-2006</td>\n",
              "      <td>17:28:00</td>\n",
              "      <td>3.666</td>\n",
              "      <td>0.528</td>\n",
              "      <td>235.68</td>\n",
              "      <td>15.8</td>\n",
              "      <td>0</td>\n",
              "      <td>1</td>\n",
              "      <td>17.0</td>\n",
              "    </tr>\n",
              "  </tbody>\n",
              "</table>\n",
              "</div>\n",
              "      <button class=\"colab-df-convert\" onclick=\"convertToInteractive('df-20836a19-2191-45f9-851d-950fd5cc217b')\"\n",
              "              title=\"Convert this dataframe to an interactive table.\"\n",
              "              style=\"display:none;\">\n",
              "        \n",
              "  <svg xmlns=\"http://www.w3.org/2000/svg\" height=\"24px\"viewBox=\"0 0 24 24\"\n",
              "       width=\"24px\">\n",
              "    <path d=\"M0 0h24v24H0V0z\" fill=\"none\"/>\n",
              "    <path d=\"M18.56 5.44l.94 2.06.94-2.06 2.06-.94-2.06-.94-.94-2.06-.94 2.06-2.06.94zm-11 1L8.5 8.5l.94-2.06 2.06-.94-2.06-.94L8.5 2.5l-.94 2.06-2.06.94zm10 10l.94 2.06.94-2.06 2.06-.94-2.06-.94-.94-2.06-.94 2.06-2.06.94z\"/><path d=\"M17.41 7.96l-1.37-1.37c-.4-.4-.92-.59-1.43-.59-.52 0-1.04.2-1.43.59L10.3 9.45l-7.72 7.72c-.78.78-.78 2.05 0 2.83L4 21.41c.39.39.9.59 1.41.59.51 0 1.02-.2 1.41-.59l7.78-7.78 2.81-2.81c.8-.78.8-2.07 0-2.86zM5.41 20L4 18.59l7.72-7.72 1.47 1.35L5.41 20z\"/>\n",
              "  </svg>\n",
              "      </button>\n",
              "      \n",
              "  <style>\n",
              "    .colab-df-container {\n",
              "      display:flex;\n",
              "      flex-wrap:wrap;\n",
              "      gap: 12px;\n",
              "    }\n",
              "\n",
              "    .colab-df-convert {\n",
              "      background-color: #E8F0FE;\n",
              "      border: none;\n",
              "      border-radius: 50%;\n",
              "      cursor: pointer;\n",
              "      display: none;\n",
              "      fill: #1967D2;\n",
              "      height: 32px;\n",
              "      padding: 0 0 0 0;\n",
              "      width: 32px;\n",
              "    }\n",
              "\n",
              "    .colab-df-convert:hover {\n",
              "      background-color: #E2EBFA;\n",
              "      box-shadow: 0px 1px 2px rgba(60, 64, 67, 0.3), 0px 1px 3px 1px rgba(60, 64, 67, 0.15);\n",
              "      fill: #174EA6;\n",
              "    }\n",
              "\n",
              "    [theme=dark] .colab-df-convert {\n",
              "      background-color: #3B4455;\n",
              "      fill: #D2E3FC;\n",
              "    }\n",
              "\n",
              "    [theme=dark] .colab-df-convert:hover {\n",
              "      background-color: #434B5C;\n",
              "      box-shadow: 0px 1px 3px 1px rgba(0, 0, 0, 0.15);\n",
              "      filter: drop-shadow(0px 1px 2px rgba(0, 0, 0, 0.3));\n",
              "      fill: #FFFFFF;\n",
              "    }\n",
              "  </style>\n",
              "\n",
              "      <script>\n",
              "        const buttonEl =\n",
              "          document.querySelector('#df-20836a19-2191-45f9-851d-950fd5cc217b button.colab-df-convert');\n",
              "        buttonEl.style.display =\n",
              "          google.colab.kernel.accessAllowed ? 'block' : 'none';\n",
              "\n",
              "        async function convertToInteractive(key) {\n",
              "          const element = document.querySelector('#df-20836a19-2191-45f9-851d-950fd5cc217b');\n",
              "          const dataTable =\n",
              "            await google.colab.kernel.invokeFunction('convertToInteractive',\n",
              "                                                     [key], {});\n",
              "          if (!dataTable) return;\n",
              "\n",
              "          const docLinkHtml = 'Like what you see? Visit the ' +\n",
              "            '<a target=\"_blank\" href=https://colab.research.google.com/notebooks/data_table.ipynb>data table notebook</a>'\n",
              "            + ' to learn more about interactive tables.';\n",
              "          element.innerHTML = '';\n",
              "          dataTable['output_type'] = 'display_data';\n",
              "          await google.colab.output.renderOutput(dataTable, element);\n",
              "          const docLink = document.createElement('div');\n",
              "          docLink.innerHTML = docLinkHtml;\n",
              "          element.appendChild(docLink);\n",
              "        }\n",
              "      </script>\n",
              "    </div>\n",
              "  </div>\n",
              "  "
            ]
          },
          "metadata": {},
          "execution_count": 3
        }
      ]
    },
    {
      "cell_type": "code",
      "source": [
        "df.isna().sum()"
      ],
      "metadata": {
        "colab": {
          "base_uri": "https://localhost:8080/"
        },
        "id": "eRL5Q21Z33F2",
        "outputId": "9a135744-5e33-4b7a-83d1-b7f45125b38a"
      },
      "execution_count": 4,
      "outputs": [
        {
          "output_type": "execute_result",
          "data": {
            "text/plain": [
              "Date                        0\n",
              "Time                        0\n",
              "Global_active_power         0\n",
              "Global_reactive_power       0\n",
              "Voltage                     0\n",
              "Global_intensity            0\n",
              "Sub_metering_1              0\n",
              "Sub_metering_2              0\n",
              "Sub_metering_3           4069\n",
              "dtype: int64"
            ]
          },
          "metadata": {},
          "execution_count": 4
        }
      ]
    },
    {
      "cell_type": "code",
      "source": [
        "df.info()"
      ],
      "metadata": {
        "colab": {
          "base_uri": "https://localhost:8080/"
        },
        "id": "YfFhXz803-ma",
        "outputId": "668efdc0-e867-4f90-f91e-574257fe44ee"
      },
      "execution_count": 5,
      "outputs": [
        {
          "output_type": "stream",
          "name": "stdout",
          "text": [
            "<class 'pandas.core.frame.DataFrame'>\n",
            "RangeIndex: 1048575 entries, 0 to 1048574\n",
            "Data columns (total 9 columns):\n",
            " #   Column                 Non-Null Count    Dtype  \n",
            "---  ------                 --------------    -----  \n",
            " 0   Date                   1048575 non-null  object \n",
            " 1   Time                   1048575 non-null  object \n",
            " 2   Global_active_power    1048575 non-null  object \n",
            " 3   Global_reactive_power  1048575 non-null  object \n",
            " 4   Voltage                1048575 non-null  object \n",
            " 5   Global_intensity       1048575 non-null  object \n",
            " 6   Sub_metering_1         1048575 non-null  object \n",
            " 7   Sub_metering_2         1048575 non-null  object \n",
            " 8   Sub_metering_3         1044506 non-null  float64\n",
            "dtypes: float64(1), object(8)\n",
            "memory usage: 72.0+ MB\n"
          ]
        }
      ]
    },
    {
      "cell_type": "code",
      "source": [
        "df.drop([\"Date\",\"Time\"], axis=1, inplace=True)"
      ],
      "metadata": {
        "id": "oPTDGeCf4hQ2"
      },
      "execution_count": 6,
      "outputs": []
    },
    {
      "cell_type": "code",
      "source": [
        "df[\"Global_active_power\"].value_counts()"
      ],
      "metadata": {
        "colab": {
          "base_uri": "https://localhost:8080/"
        },
        "id": "wY6PFUxd5-QH",
        "outputId": "4d626c7c-575a-4762-8408-530ce729c90d"
      },
      "execution_count": 7,
      "outputs": [
        {
          "output_type": "execute_result",
          "data": {
            "text/plain": [
              "0.218    6714\n",
              "0.216    6575\n",
              "0.22     6410\n",
              "0.222    6198\n",
              "0.224    6052\n",
              "         ... \n",
              "7.626       1\n",
              "7.306       1\n",
              "7.11        1\n",
              "6.988       1\n",
              "7.38        1\n",
              "Name: Global_active_power, Length: 4076, dtype: int64"
            ]
          },
          "metadata": {},
          "execution_count": 7
        }
      ]
    },
    {
      "cell_type": "code",
      "source": [
        "df[\"Global_reactive_power\"].replace(\"?\",np.nan,inplace=True)\n",
        "df[\"Global_active_power\"].replace(\"?\",np.nan,inplace=True)\n",
        "df[\"Voltage\"].replace(\"?\",np.nan,inplace=True)\n",
        "df[\"Global_intensity\"].replace(\"?\",np.nan,inplace=True)\n",
        "df[\"Sub_metering_1\"].replace(\"?\",np.nan,inplace=True)\n",
        "df[\"Sub_metering_2\"].replace(\"?\",np.nan,inplace=True)"
      ],
      "metadata": {
        "id": "I7qs-Q8m5beD"
      },
      "execution_count": 8,
      "outputs": []
    },
    {
      "cell_type": "code",
      "source": [
        "df.iloc[:,:-1] = df.iloc[:,:-1].astype(\"float64\")"
      ],
      "metadata": {
        "id": "VF7jRHQk4GYT"
      },
      "execution_count": 9,
      "outputs": []
    },
    {
      "cell_type": "code",
      "source": [
        "df.info()"
      ],
      "metadata": {
        "colab": {
          "base_uri": "https://localhost:8080/"
        },
        "id": "zo_xH7Dh4cjW",
        "outputId": "db3b3d1e-0ec4-441a-b702-ddb6a920672a"
      },
      "execution_count": 10,
      "outputs": [
        {
          "output_type": "stream",
          "name": "stdout",
          "text": [
            "<class 'pandas.core.frame.DataFrame'>\n",
            "RangeIndex: 1048575 entries, 0 to 1048574\n",
            "Data columns (total 7 columns):\n",
            " #   Column                 Non-Null Count    Dtype  \n",
            "---  ------                 --------------    -----  \n",
            " 0   Global_active_power    1044506 non-null  float64\n",
            " 1   Global_reactive_power  1044506 non-null  float64\n",
            " 2   Voltage                1044506 non-null  float64\n",
            " 3   Global_intensity       1044506 non-null  float64\n",
            " 4   Sub_metering_1         1044506 non-null  float64\n",
            " 5   Sub_metering_2         1044506 non-null  float64\n",
            " 6   Sub_metering_3         1044506 non-null  float64\n",
            "dtypes: float64(7)\n",
            "memory usage: 56.0 MB\n"
          ]
        }
      ]
    },
    {
      "cell_type": "code",
      "source": [
        "df.dropna(how=\"any\",subset=[\"Sub_metering_3\", \"Global_intensity\", \"Sub_metering_2\", \"Sub_metering_1\"], axis=0, inplace=True)"
      ],
      "metadata": {
        "id": "vHdJZbFN7Mm5"
      },
      "execution_count": 11,
      "outputs": []
    },
    {
      "cell_type": "code",
      "source": [
        "df.isna().sum()"
      ],
      "metadata": {
        "colab": {
          "base_uri": "https://localhost:8080/"
        },
        "id": "TKcwNpuU7Vga",
        "outputId": "a222e2d1-ea5e-4249-a4b6-e8676e497afa"
      },
      "execution_count": 12,
      "outputs": [
        {
          "output_type": "execute_result",
          "data": {
            "text/plain": [
              "Global_active_power      0\n",
              "Global_reactive_power    0\n",
              "Voltage                  0\n",
              "Global_intensity         0\n",
              "Sub_metering_1           0\n",
              "Sub_metering_2           0\n",
              "Sub_metering_3           0\n",
              "dtype: int64"
            ]
          },
          "metadata": {},
          "execution_count": 12
        }
      ]
    },
    {
      "cell_type": "code",
      "source": [
        "x = df.drop([\"Voltage\"],axis=1)\n",
        "y = df[\"Voltage\"]"
      ],
      "metadata": {
        "id": "cw1RQ5dQ7YEP"
      },
      "execution_count": 13,
      "outputs": []
    },
    {
      "cell_type": "code",
      "source": [
        "x"
      ],
      "metadata": {
        "colab": {
          "base_uri": "https://localhost:8080/",
          "height": 424
        },
        "id": "9AttC4u578lH",
        "outputId": "a62f8e8b-5d5a-493e-c8df-3eebd7366258"
      },
      "execution_count": 14,
      "outputs": [
        {
          "output_type": "execute_result",
          "data": {
            "text/plain": [
              "         Global_active_power  Global_reactive_power  Global_intensity  \\\n",
              "0                      4.216                  0.418              18.4   \n",
              "1                      5.360                  0.436              23.0   \n",
              "2                      5.374                  0.498              23.0   \n",
              "3                      5.388                  0.502              23.0   \n",
              "4                      3.666                  0.528              15.8   \n",
              "...                      ...                    ...               ...   \n",
              "1048570                0.426                  0.076               1.8   \n",
              "1048571                0.424                  0.076               1.8   \n",
              "1048572                0.422                  0.076               1.8   \n",
              "1048573                0.422                  0.078               1.8   \n",
              "1048574                0.422                  0.078               1.8   \n",
              "\n",
              "         Sub_metering_1  Sub_metering_2  Sub_metering_3  \n",
              "0                   0.0             1.0            17.0  \n",
              "1                   0.0             1.0            16.0  \n",
              "2                   0.0             2.0            17.0  \n",
              "3                   0.0             1.0            17.0  \n",
              "4                   0.0             1.0            17.0  \n",
              "...                 ...             ...             ...  \n",
              "1048570             0.0             0.0             0.0  \n",
              "1048571             0.0             0.0             0.0  \n",
              "1048572             0.0             0.0             0.0  \n",
              "1048573             0.0             0.0             0.0  \n",
              "1048574             0.0             0.0             0.0  \n",
              "\n",
              "[1044506 rows x 6 columns]"
            ],
            "text/html": [
              "\n",
              "  <div id=\"df-caa2df3f-9267-4887-a87d-9a1be4b47c76\">\n",
              "    <div class=\"colab-df-container\">\n",
              "      <div>\n",
              "<style scoped>\n",
              "    .dataframe tbody tr th:only-of-type {\n",
              "        vertical-align: middle;\n",
              "    }\n",
              "\n",
              "    .dataframe tbody tr th {\n",
              "        vertical-align: top;\n",
              "    }\n",
              "\n",
              "    .dataframe thead th {\n",
              "        text-align: right;\n",
              "    }\n",
              "</style>\n",
              "<table border=\"1\" class=\"dataframe\">\n",
              "  <thead>\n",
              "    <tr style=\"text-align: right;\">\n",
              "      <th></th>\n",
              "      <th>Global_active_power</th>\n",
              "      <th>Global_reactive_power</th>\n",
              "      <th>Global_intensity</th>\n",
              "      <th>Sub_metering_1</th>\n",
              "      <th>Sub_metering_2</th>\n",
              "      <th>Sub_metering_3</th>\n",
              "    </tr>\n",
              "  </thead>\n",
              "  <tbody>\n",
              "    <tr>\n",
              "      <th>0</th>\n",
              "      <td>4.216</td>\n",
              "      <td>0.418</td>\n",
              "      <td>18.4</td>\n",
              "      <td>0.0</td>\n",
              "      <td>1.0</td>\n",
              "      <td>17.0</td>\n",
              "    </tr>\n",
              "    <tr>\n",
              "      <th>1</th>\n",
              "      <td>5.360</td>\n",
              "      <td>0.436</td>\n",
              "      <td>23.0</td>\n",
              "      <td>0.0</td>\n",
              "      <td>1.0</td>\n",
              "      <td>16.0</td>\n",
              "    </tr>\n",
              "    <tr>\n",
              "      <th>2</th>\n",
              "      <td>5.374</td>\n",
              "      <td>0.498</td>\n",
              "      <td>23.0</td>\n",
              "      <td>0.0</td>\n",
              "      <td>2.0</td>\n",
              "      <td>17.0</td>\n",
              "    </tr>\n",
              "    <tr>\n",
              "      <th>3</th>\n",
              "      <td>5.388</td>\n",
              "      <td>0.502</td>\n",
              "      <td>23.0</td>\n",
              "      <td>0.0</td>\n",
              "      <td>1.0</td>\n",
              "      <td>17.0</td>\n",
              "    </tr>\n",
              "    <tr>\n",
              "      <th>4</th>\n",
              "      <td>3.666</td>\n",
              "      <td>0.528</td>\n",
              "      <td>15.8</td>\n",
              "      <td>0.0</td>\n",
              "      <td>1.0</td>\n",
              "      <td>17.0</td>\n",
              "    </tr>\n",
              "    <tr>\n",
              "      <th>...</th>\n",
              "      <td>...</td>\n",
              "      <td>...</td>\n",
              "      <td>...</td>\n",
              "      <td>...</td>\n",
              "      <td>...</td>\n",
              "      <td>...</td>\n",
              "    </tr>\n",
              "    <tr>\n",
              "      <th>1048570</th>\n",
              "      <td>0.426</td>\n",
              "      <td>0.076</td>\n",
              "      <td>1.8</td>\n",
              "      <td>0.0</td>\n",
              "      <td>0.0</td>\n",
              "      <td>0.0</td>\n",
              "    </tr>\n",
              "    <tr>\n",
              "      <th>1048571</th>\n",
              "      <td>0.424</td>\n",
              "      <td>0.076</td>\n",
              "      <td>1.8</td>\n",
              "      <td>0.0</td>\n",
              "      <td>0.0</td>\n",
              "      <td>0.0</td>\n",
              "    </tr>\n",
              "    <tr>\n",
              "      <th>1048572</th>\n",
              "      <td>0.422</td>\n",
              "      <td>0.076</td>\n",
              "      <td>1.8</td>\n",
              "      <td>0.0</td>\n",
              "      <td>0.0</td>\n",
              "      <td>0.0</td>\n",
              "    </tr>\n",
              "    <tr>\n",
              "      <th>1048573</th>\n",
              "      <td>0.422</td>\n",
              "      <td>0.078</td>\n",
              "      <td>1.8</td>\n",
              "      <td>0.0</td>\n",
              "      <td>0.0</td>\n",
              "      <td>0.0</td>\n",
              "    </tr>\n",
              "    <tr>\n",
              "      <th>1048574</th>\n",
              "      <td>0.422</td>\n",
              "      <td>0.078</td>\n",
              "      <td>1.8</td>\n",
              "      <td>0.0</td>\n",
              "      <td>0.0</td>\n",
              "      <td>0.0</td>\n",
              "    </tr>\n",
              "  </tbody>\n",
              "</table>\n",
              "<p>1044506 rows × 6 columns</p>\n",
              "</div>\n",
              "      <button class=\"colab-df-convert\" onclick=\"convertToInteractive('df-caa2df3f-9267-4887-a87d-9a1be4b47c76')\"\n",
              "              title=\"Convert this dataframe to an interactive table.\"\n",
              "              style=\"display:none;\">\n",
              "        \n",
              "  <svg xmlns=\"http://www.w3.org/2000/svg\" height=\"24px\"viewBox=\"0 0 24 24\"\n",
              "       width=\"24px\">\n",
              "    <path d=\"M0 0h24v24H0V0z\" fill=\"none\"/>\n",
              "    <path d=\"M18.56 5.44l.94 2.06.94-2.06 2.06-.94-2.06-.94-.94-2.06-.94 2.06-2.06.94zm-11 1L8.5 8.5l.94-2.06 2.06-.94-2.06-.94L8.5 2.5l-.94 2.06-2.06.94zm10 10l.94 2.06.94-2.06 2.06-.94-2.06-.94-.94-2.06-.94 2.06-2.06.94z\"/><path d=\"M17.41 7.96l-1.37-1.37c-.4-.4-.92-.59-1.43-.59-.52 0-1.04.2-1.43.59L10.3 9.45l-7.72 7.72c-.78.78-.78 2.05 0 2.83L4 21.41c.39.39.9.59 1.41.59.51 0 1.02-.2 1.41-.59l7.78-7.78 2.81-2.81c.8-.78.8-2.07 0-2.86zM5.41 20L4 18.59l7.72-7.72 1.47 1.35L5.41 20z\"/>\n",
              "  </svg>\n",
              "      </button>\n",
              "      \n",
              "  <style>\n",
              "    .colab-df-container {\n",
              "      display:flex;\n",
              "      flex-wrap:wrap;\n",
              "      gap: 12px;\n",
              "    }\n",
              "\n",
              "    .colab-df-convert {\n",
              "      background-color: #E8F0FE;\n",
              "      border: none;\n",
              "      border-radius: 50%;\n",
              "      cursor: pointer;\n",
              "      display: none;\n",
              "      fill: #1967D2;\n",
              "      height: 32px;\n",
              "      padding: 0 0 0 0;\n",
              "      width: 32px;\n",
              "    }\n",
              "\n",
              "    .colab-df-convert:hover {\n",
              "      background-color: #E2EBFA;\n",
              "      box-shadow: 0px 1px 2px rgba(60, 64, 67, 0.3), 0px 1px 3px 1px rgba(60, 64, 67, 0.15);\n",
              "      fill: #174EA6;\n",
              "    }\n",
              "\n",
              "    [theme=dark] .colab-df-convert {\n",
              "      background-color: #3B4455;\n",
              "      fill: #D2E3FC;\n",
              "    }\n",
              "\n",
              "    [theme=dark] .colab-df-convert:hover {\n",
              "      background-color: #434B5C;\n",
              "      box-shadow: 0px 1px 3px 1px rgba(0, 0, 0, 0.15);\n",
              "      filter: drop-shadow(0px 1px 2px rgba(0, 0, 0, 0.3));\n",
              "      fill: #FFFFFF;\n",
              "    }\n",
              "  </style>\n",
              "\n",
              "      <script>\n",
              "        const buttonEl =\n",
              "          document.querySelector('#df-caa2df3f-9267-4887-a87d-9a1be4b47c76 button.colab-df-convert');\n",
              "        buttonEl.style.display =\n",
              "          google.colab.kernel.accessAllowed ? 'block' : 'none';\n",
              "\n",
              "        async function convertToInteractive(key) {\n",
              "          const element = document.querySelector('#df-caa2df3f-9267-4887-a87d-9a1be4b47c76');\n",
              "          const dataTable =\n",
              "            await google.colab.kernel.invokeFunction('convertToInteractive',\n",
              "                                                     [key], {});\n",
              "          if (!dataTable) return;\n",
              "\n",
              "          const docLinkHtml = 'Like what you see? Visit the ' +\n",
              "            '<a target=\"_blank\" href=https://colab.research.google.com/notebooks/data_table.ipynb>data table notebook</a>'\n",
              "            + ' to learn more about interactive tables.';\n",
              "          element.innerHTML = '';\n",
              "          dataTable['output_type'] = 'display_data';\n",
              "          await google.colab.output.renderOutput(dataTable, element);\n",
              "          const docLink = document.createElement('div');\n",
              "          docLink.innerHTML = docLinkHtml;\n",
              "          element.appendChild(docLink);\n",
              "        }\n",
              "      </script>\n",
              "    </div>\n",
              "  </div>\n",
              "  "
            ]
          },
          "metadata": {},
          "execution_count": 14
        }
      ]
    },
    {
      "cell_type": "code",
      "source": [
        "y"
      ],
      "metadata": {
        "colab": {
          "base_uri": "https://localhost:8080/"
        },
        "id": "wkb9Ya_M79rR",
        "outputId": "05461959-ea49-4fa3-b85f-a860b3c427ba"
      },
      "execution_count": 15,
      "outputs": [
        {
          "output_type": "execute_result",
          "data": {
            "text/plain": [
              "0          234.84\n",
              "1          233.63\n",
              "2          233.29\n",
              "3          233.74\n",
              "4          235.68\n",
              "            ...  \n",
              "1048570    242.27\n",
              "1048571    242.10\n",
              "1048572    241.73\n",
              "1048573    242.56\n",
              "1048574    242.61\n",
              "Name: Voltage, Length: 1044506, dtype: float64"
            ]
          },
          "metadata": {},
          "execution_count": 15
        }
      ]
    },
    {
      "cell_type": "code",
      "source": [
        "sns.boxplot(data=df, y=\"Global_active_power\",x=\"Voltage\")\n",
        "plt.grid()"
      ],
      "metadata": {
        "colab": {
          "base_uri": "https://localhost:8080/",
          "height": 279
        },
        "id": "o9hon5pBM5hV",
        "outputId": "2d2f03cf-a64c-45d2-b6d8-1a080eafada4"
      },
      "execution_count": 16,
      "outputs": [
        {
          "output_type": "display_data",
          "data": {
            "text/plain": [
              "<Figure size 432x288 with 1 Axes>"
            ],
            "image/png": "[encoded data removed]"
          },
          "metadata": {
            "needs_background": "light"
          }
        }
      ]
    },
    {
      "cell_type": "code",
      "source": [
        "pd.concat([x,y], axis=1).corr()[\"Voltage\"].sort_values()"
      ],
      "metadata": {
        "colab": {
          "base_uri": "https://localhost:8080/"
        },
        "id": "p2rllDi37_6z",
        "outputId": "14211e68-994b-4ddc-dc0d-ad4463a69d73"
      },
      "execution_count": 17,
      "outputs": [
        {
          "output_type": "execute_result",
          "data": {
            "text/plain": [
              "Global_intensity        -0.411298\n",
              "Global_active_power     -0.400987\n",
              "Sub_metering_3          -0.284932\n",
              "Sub_metering_1          -0.203805\n",
              "Sub_metering_2          -0.178899\n",
              "Global_reactive_power   -0.120617\n",
              "Voltage                  1.000000\n",
              "Name: Voltage, dtype: float64"
            ]
          },
          "metadata": {},
          "execution_count": 17
        }
      ]
    },
    {
      "cell_type": "code",
      "source": [
        "from sklearn.preprocessing import StandardScaler\n",
        "\n",
        "std = StandardScaler()\n",
        "\n",
        "x.iloc[:,:] = std.fit_transform(x.iloc[:,:])\n",
        "x"
      ],
      "metadata": {
        "colab": {
          "base_uri": "https://localhost:8080/",
          "height": 424
        },
        "id": "z8rRfe6z8OYm",
        "outputId": "9659b72e-9f69-425a-c49e-866c0f500bac"
      },
      "execution_count": 18,
      "outputs": [
        {
          "output_type": "execute_result",
          "data": {
            "text/plain": [
              "         Global_active_power  Global_reactive_power  Global_intensity  \\\n",
              "0                   2.751371               2.737077          2.872180   \n",
              "1                   3.764168               2.901452          3.837839   \n",
              "2                   3.776562               3.467630          3.837839   \n",
              "3                   3.788957               3.504158          3.837839   \n",
              "4                   2.264449               3.741587          2.326373   \n",
              "...                      ...                    ...               ...   \n",
              "1048570            -0.603962              -0.386035         -0.612590   \n",
              "1048571            -0.605732              -0.386035         -0.612590   \n",
              "1048572            -0.607503              -0.386035         -0.612590   \n",
              "1048573            -0.607503              -0.367771         -0.612590   \n",
              "1048574            -0.607503              -0.367771         -0.612590   \n",
              "\n",
              "         Sub_metering_1  Sub_metering_2  Sub_metering_3  \n",
              "0             -0.186271       -0.074799        1.347824  \n",
              "1             -0.186271       -0.074799        1.226027  \n",
              "2             -0.186271        0.082614        1.347824  \n",
              "3             -0.186271       -0.074799        1.347824  \n",
              "4             -0.186271       -0.074799        1.347824  \n",
              "...                 ...             ...             ...  \n",
              "1048570       -0.186271       -0.232213       -0.722723  \n",
              "1048571       -0.186271       -0.232213       -0.722723  \n",
              "1048572       -0.186271       -0.232213       -0.722723  \n",
              "1048573       -0.186271       -0.232213       -0.722723  \n",
              "1048574       -0.186271       -0.232213       -0.722723  \n",
              "\n",
              "[1044506 rows x 6 columns]"
            ],
            "text/html": [
              "\n",
              "  <div id=\"df-0cc8d656-b708-4b43-81f6-c63846700598\">\n",
              "    <div class=\"colab-df-container\">\n",
              "      <div>\n",
              "<style scoped>\n",
              "    .dataframe tbody tr th:only-of-type {\n",
              "        vertical-align: middle;\n",
              "    }\n",
              "\n",
              "    .dataframe tbody tr th {\n",
              "        vertical-align: top;\n",
              "    }\n",
              "\n",
              "    .dataframe thead th {\n",
              "        text-align: right;\n",
              "    }\n",
              "</style>\n",
              "<table border=\"1\" class=\"dataframe\">\n",
              "  <thead>\n",
              "    <tr style=\"text-align: right;\">\n",
              "      <th></th>\n",
              "      <th>Global_active_power</th>\n",
              "      <th>Global_reactive_power</th>\n",
              "      <th>Global_intensity</th>\n",
              "      <th>Sub_metering_1</th>\n",
              "      <th>Sub_metering_2</th>\n",
              "      <th>Sub_metering_3</th>\n",
              "    </tr>\n",
              "  </thead>\n",
              "  <tbody>\n",
              "    <tr>\n",
              "      <th>0</th>\n",
              "      <td>2.751371</td>\n",
              "      <td>2.737077</td>\n",
              "      <td>2.872180</td>\n",
              "      <td>-0.186271</td>\n",
              "      <td>-0.074799</td>\n",
              "      <td>1.347824</td>\n",
              "    </tr>\n",
              "    <tr>\n",
              "      <th>1</th>\n",
              "      <td>3.764168</td>\n",
              "      <td>2.901452</td>\n",
              "      <td>3.837839</td>\n",
              "      <td>-0.186271</td>\n",
              "      <td>-0.074799</td>\n",
              "      <td>1.226027</td>\n",
              "    </tr>\n",
              "    <tr>\n",
              "      <th>2</th>\n",
              "      <td>3.776562</td>\n",
              "      <td>3.467630</td>\n",
              "      <td>3.837839</td>\n",
              "      <td>-0.186271</td>\n",
              "      <td>0.082614</td>\n",
              "      <td>1.347824</td>\n",
              "    </tr>\n",
              "    <tr>\n",
              "      <th>3</th>\n",
              "      <td>3.788957</td>\n",
              "      <td>3.504158</td>\n",
              "      <td>3.837839</td>\n",
              "      <td>-0.186271</td>\n",
              "      <td>-0.074799</td>\n",
              "      <td>1.347824</td>\n",
              "    </tr>\n",
              "    <tr>\n",
              "      <th>4</th>\n",
              "      <td>2.264449</td>\n",
              "      <td>3.741587</td>\n",
              "      <td>2.326373</td>\n",
              "      <td>-0.186271</td>\n",
              "      <td>-0.074799</td>\n",
              "      <td>1.347824</td>\n",
              "    </tr>\n",
              "    <tr>\n",
              "      <th>...</th>\n",
              "      <td>...</td>\n",
              "      <td>...</td>\n",
              "      <td>...</td>\n",
              "      <td>...</td>\n",
              "      <td>...</td>\n",
              "      <td>...</td>\n",
              "    </tr>\n",
              "    <tr>\n",
              "      <th>1048570</th>\n",
              "      <td>-0.603962</td>\n",
              "      <td>-0.386035</td>\n",
              "      <td>-0.612590</td>\n",
              "      <td>-0.186271</td>\n",
              "      <td>-0.232213</td>\n",
              "      <td>-0.722723</td>\n",
              "    </tr>\n",
              "    <tr>\n",
              "      <th>1048571</th>\n",
              "      <td>-0.605732</td>\n",
              "      <td>-0.386035</td>\n",
              "      <td>-0.612590</td>\n",
              "      <td>-0.186271</td>\n",
              "      <td>-0.232213</td>\n",
              "      <td>-0.722723</td>\n",
              "    </tr>\n",
              "    <tr>\n",
              "      <th>1048572</th>\n",
              "      <td>-0.607503</td>\n",
              "      <td>-0.386035</td>\n",
              "      <td>-0.612590</td>\n",
              "      <td>-0.186271</td>\n",
              "      <td>-0.232213</td>\n",
              "      <td>-0.722723</td>\n",
              "    </tr>\n",
              "    <tr>\n",
              "      <th>1048573</th>\n",
              "      <td>-0.607503</td>\n",
              "      <td>-0.367771</td>\n",
              "      <td>-0.612590</td>\n",
              "      <td>-0.186271</td>\n",
              "      <td>-0.232213</td>\n",
              "      <td>-0.722723</td>\n",
              "    </tr>\n",
              "    <tr>\n",
              "      <th>1048574</th>\n",
              "      <td>-0.607503</td>\n",
              "      <td>-0.367771</td>\n",
              "      <td>-0.612590</td>\n",
              "      <td>-0.186271</td>\n",
              "      <td>-0.232213</td>\n",
              "      <td>-0.722723</td>\n",
              "    </tr>\n",
              "  </tbody>\n",
              "</table>\n",
              "<p>1044506 rows × 6 columns</p>\n",
              "</div>\n",
              "      <button class=\"colab-df-convert\" onclick=\"convertToInteractive('df-0cc8d656-b708-4b43-81f6-c63846700598')\"\n",
              "              title=\"Convert this dataframe to an interactive table.\"\n",
              "              style=\"display:none;\">\n",
              "        \n",
              "  <svg xmlns=\"http://www.w3.org/2000/svg\" height=\"24px\"viewBox=\"0 0 24 24\"\n",
              "       width=\"24px\">\n",
              "    <path d=\"M0 0h24v24H0V0z\" fill=\"none\"/>\n",
              "    <path d=\"M18.56 5.44l.94 2.06.94-2.06 2.06-.94-2.06-.94-.94-2.06-.94 2.06-2.06.94zm-11 1L8.5 8.5l.94-2.06 2.06-.94-2.06-.94L8.5 2.5l-.94 2.06-2.06.94zm10 10l.94 2.06.94-2.06 2.06-.94-2.06-.94-.94-2.06-.94 2.06-2.06.94z\"/><path d=\"M17.41 7.96l-1.37-1.37c-.4-.4-.92-.59-1.43-.59-.52 0-1.04.2-1.43.59L10.3 9.45l-7.72 7.72c-.78.78-.78 2.05 0 2.83L4 21.41c.39.39.9.59 1.41.59.51 0 1.02-.2 1.41-.59l7.78-7.78 2.81-2.81c.8-.78.8-2.07 0-2.86zM5.41 20L4 18.59l7.72-7.72 1.47 1.35L5.41 20z\"/>\n",
              "  </svg>\n",
              "      </button>\n",
              "      \n",
              "  <style>\n",
              "    .colab-df-container {\n",
              "      display:flex;\n",
              "      flex-wrap:wrap;\n",
              "      gap: 12px;\n",
              "    }\n",
              "\n",
              "    .colab-df-convert {\n",
              "      background-color: #E8F0FE;\n",
              "      border: none;\n",
              "      border-radius: 50%;\n",
              "      cursor: pointer;\n",
              "      display: none;\n",
              "      fill: #1967D2;\n",
              "      height: 32px;\n",
              "      padding: 0 0 0 0;\n",
              "      width: 32px;\n",
              "    }\n",
              "\n",
              "    .colab-df-convert:hover {\n",
              "      background-color: #E2EBFA;\n",
              "      box-shadow: 0px 1px 2px rgba(60, 64, 67, 0.3), 0px 1px 3px 1px rgba(60, 64, 67, 0.15);\n",
              "      fill: #174EA6;\n",
              "    }\n",
              "\n",
              "    [theme=dark] .colab-df-convert {\n",
              "      background-color: #3B4455;\n",
              "      fill: #D2E3FC;\n",
              "    }\n",
              "\n",
              "    [theme=dark] .colab-df-convert:hover {\n",
              "      background-color: #434B5C;\n",
              "      box-shadow: 0px 1px 3px 1px rgba(0, 0, 0, 0.15);\n",
              "      filter: drop-shadow(0px 1px 2px rgba(0, 0, 0, 0.3));\n",
              "      fill: #FFFFFF;\n",
              "    }\n",
              "  </style>\n",
              "\n",
              "      <script>\n",
              "        const buttonEl =\n",
              "          document.querySelector('#df-0cc8d656-b708-4b43-81f6-c63846700598 button.colab-df-convert');\n",
              "        buttonEl.style.display =\n",
              "          google.colab.kernel.accessAllowed ? 'block' : 'none';\n",
              "\n",
              "        async function convertToInteractive(key) {\n",
              "          const element = document.querySelector('#df-0cc8d656-b708-4b43-81f6-c63846700598');\n",
              "          const dataTable =\n",
              "            await google.colab.kernel.invokeFunction('convertToInteractive',\n",
              "                                                     [key], {});\n",
              "          if (!dataTable) return;\n",
              "\n",
              "          const docLinkHtml = 'Like what you see? Visit the ' +\n",
              "            '<a target=\"_blank\" href=https://colab.research.google.com/notebooks/data_table.ipynb>data table notebook</a>'\n",
              "            + ' to learn more about interactive tables.';\n",
              "          element.innerHTML = '';\n",
              "          dataTable['output_type'] = 'display_data';\n",
              "          await google.colab.output.renderOutput(dataTable, element);\n",
              "          const docLink = document.createElement('div');\n",
              "          docLink.innerHTML = docLinkHtml;\n",
              "          element.appendChild(docLink);\n",
              "        }\n",
              "      </script>\n",
              "    </div>\n",
              "  </div>\n",
              "  "
            ]
          },
          "metadata": {},
          "execution_count": 18
        }
      ]
    },
    {
      "cell_type": "code",
      "source": [
        "from sklearn.model_selection import train_test_split\n",
        "xtrain,xtest,ytrain,ytest = train_test_split(x,y,test_size=0.3,random_state=1)"
      ],
      "metadata": {
        "id": "OaSONYJ18SuC"
      },
      "execution_count": 19,
      "outputs": []
    },
    {
      "cell_type": "code",
      "source": [
        "ann = Sequential()\n",
        "\n",
        "ann.add(Dense(units=10, activation=\"relu\"))\n",
        "ann.add(Dense(units=1))\n",
        "\n",
        "ann.compile(optimizer=\"adam\", loss=\"mse\")\n",
        "\n",
        "ann.fit(xtrain,ytrain,batch_size=38,epochs=15)\n",
        "\n",
        "ypred = ann.predict(xtest)"
      ],
      "metadata": {
        "colab": {
          "base_uri": "https://localhost:8080/"
        },
        "id": "ev0rZ3q1MZug",
        "outputId": "0429b709-9a72-4392-f050-72edc9398acc"
      },
      "execution_count": 20,
      "outputs": [
        {
          "output_type": "stream",
          "name": "stdout",
          "text": [
            "Epoch 1/15\n",
            "19241/19241 [==============================] - 33s 2ms/step - loss: 5592.4902\n",
            "Epoch 2/15\n",
            "19241/19241 [==============================] - 30s 2ms/step - loss: 11.7114\n",
            "Epoch 3/15\n",
            "19241/19241 [==============================] - 29s 2ms/step - loss: 8.0385\n",
            "Epoch 4/15\n",
            "19241/19241 [==============================] - 31s 2ms/step - loss: 7.8314\n",
            "Epoch 5/15\n",
            "19241/19241 [==============================] - 29s 2ms/step - loss: 7.7838\n",
            "Epoch 6/15\n",
            "19241/19241 [==============================] - 29s 2ms/step - loss: 7.7474\n",
            "Epoch 7/15\n",
            "19241/19241 [==============================] - 29s 2ms/step - loss: 7.6936\n",
            "Epoch 8/15\n",
            "19241/19241 [==============================] - 29s 2ms/step - loss: 7.6500\n",
            "Epoch 9/15\n",
            "19241/19241 [==============================] - 30s 2ms/step - loss: 7.6245\n",
            "Epoch 10/15\n",
            "19241/19241 [==============================] - 29s 2ms/step - loss: 7.6007\n",
            "Epoch 11/15\n",
            "19241/19241 [==============================] - 29s 2ms/step - loss: 7.5869\n",
            "Epoch 12/15\n",
            "19241/19241 [==============================] - 29s 2ms/step - loss: 7.5675\n",
            "Epoch 13/15\n",
            "19241/19241 [==============================] - 30s 2ms/step - loss: 7.5505\n",
            "Epoch 14/15\n",
            "19241/19241 [==============================] - 29s 1ms/step - loss: 7.5350\n",
            "Epoch 15/15\n",
            "19241/19241 [==============================] - 29s 2ms/step - loss: 7.5237\n",
            "9793/9793 [==============================] - 12s 1ms/step\n"
          ]
        }
      ]
    },
    {
      "cell_type": "code",
      "source": [
        "from sklearn.metrics import r2_score, mean_squared_error\n",
        "print(f\"MSE:{mean_squared_error(ytest,ypred)}\")\n",
        "print(f\"RMSE:{np.sqrt(mean_squared_error(ytest,ypred))}\")"
      ],
      "metadata": {
        "colab": {
          "base_uri": "https://localhost:8080/"
        },
        "id": "x_ioc6A89Hn4",
        "outputId": "c37036df-b5d6-459a-eb4a-b0a7ee4a9560"
      },
      "execution_count": 21,
      "outputs": [
        {
          "output_type": "stream",
          "name": "stdout",
          "text": [
            "MSE:7.472257693261996\n",
            "RMSE:2.733543065924149\n"
          ]
        }
      ]
    },
    {
      "cell_type": "code",
      "source": [],
      "metadata": {
        "id": "a3BsBCFY9agM"
      },
      "execution_count": 21,
      "outputs": []
    }
  ]
}